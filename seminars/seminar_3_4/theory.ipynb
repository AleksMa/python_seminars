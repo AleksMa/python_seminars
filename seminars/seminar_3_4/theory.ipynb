{
 "cells": [
  {
   "cell_type": "markdown",
   "id": "8cd4f361",
   "metadata": {},
   "source": [
    "# После лекции"
   ]
  },
  {
   "cell_type": "markdown",
   "id": "7263a3b2",
   "metadata": {},
   "source": [
    "# Quiz\n",
    "\n",
    "https://forms.yandex.ru/u/68c7002c068ff02566a60435/"
   ]
  },
  {
   "cell_type": "markdown",
   "id": "4f263590",
   "metadata": {},
   "source": [
    "# Вопросы"
   ]
  },
  {
   "cell_type": "markdown",
   "id": "15e7daec",
   "metadata": {},
   "source": [
    "Ниже представлен список вопросов, которые могут встретиться вам на коллоквиуме:"
   ]
  },
  {
   "cell_type": "code",
   "execution_count": null,
   "id": "e678be27",
   "metadata": {},
   "outputs": [
    {
     "name": "stdout",
     "output_type": "stream",
     "text": [
      "True\n",
      "True\n",
      "False\n"
     ]
    },
    {
     "data": {
      "text/plain": [
       "(4384952560, 4384952560)"
      ]
     },
     "execution_count": 160,
     "metadata": {},
     "output_type": "execute_result"
    }
   ],
   "source": [
    "from copy import deepcopy\n",
    "l = [1, \"1000000\", [\"a\", \"b\"]]\n",
    "\n",
    "s = deepcopy(l)\n",
    "\n",
    "print(l[0] is s[0])\n",
    "print(l[1] is s[1])  # обсудить в следующий раз\n",
    "print(l[2] is s[2])"
   ]
  },
  {
   "cell_type": "code",
   "execution_count": null,
   "id": "2a4da265",
   "metadata": {},
   "outputs": [
    {
     "name": "stdout",
     "output_type": "stream",
     "text": [
      "0b1\n",
      "-0b10\n"
     ]
    }
   ],
   "source": [
    "print(bin(1))\n",
    "print(bin(-2))\n",
    "# -x - 1, обсудить в следующий раз"
   ]
  },
  {
   "cell_type": "markdown",
   "id": "1106b807",
   "metadata": {},
   "source": [
    "Вопросы по третьей лекции:\n",
    "- Что такое множество?\n",
    "- Что такое словарь?\n",
    "- Какое применение множества вы знаете?\n",
    "- Какое применение словаря вы знаете?\n",
    "- Как хранить одинаковые объекты в множестве?\n",
    "- Что такое хешируемый объект?\n",
    "- Верно ли утверждение, что неизменяемые объекты являются хешируемыми объектами?\n",
    "- Как проверить объект на хешируемость?\n",
    "- Что такое `frozenset` и для чего он нам нужен?\n",
    "- Что может быть ключом в словаре?\n",
    "- Как положить словарь в словарь?\n",
    "- Что вы знаете о методах словаря `.items()`, `.keys()`, `.values()`?\n",
    "- Как упорядочены ключи в словаре?\n",
    "- Почему `hash(-1) == hash(-2)`"
   ]
  },
  {
   "cell_type": "markdown",
   "id": "174a9b76",
   "metadata": {},
   "source": []
  },
  {
   "cell_type": "code",
   "execution_count": 39,
   "id": "2558c6d9",
   "metadata": {},
   "outputs": [
    {
     "data": {
      "text/plain": [
       "(-2, -2)"
      ]
     },
     "execution_count": 39,
     "metadata": {},
     "output_type": "execute_result"
    }
   ],
   "source": [
    "hash(-1), hash(-2)"
   ]
  },
  {
   "cell_type": "code",
   "execution_count": 70,
   "id": "5250544b",
   "metadata": {},
   "outputs": [
    {
     "name": "stdout",
     "output_type": "stream",
     "text": [
      "[(1, 4), (3, 3), (2, 5)]\n",
      "3 3\n",
      "1 4\n",
      "2 5\n"
     ]
    },
    {
     "data": {
      "text/plain": [
       "list"
      ]
     },
     "execution_count": 70,
     "metadata": {},
     "output_type": "execute_result"
    }
   ],
   "source": [
    "d = {\n",
    "    1: 4,\n",
    "    3: 3,\n",
    "    2: 5,\n",
    "}\n",
    "\n",
    "print(list(d.items()))\n",
    "\n",
    "d = dict(sorted(list(d.items()), key=lambda x: x[1]))\n",
    "d\n",
    "\n",
    "for k, v in list(d.items()):\n",
    "    print(k, v)\n",
    "\n",
    "type(list(d.items()))"
   ]
  },
  {
   "cell_type": "code",
   "execution_count": 76,
   "id": "43889bdf",
   "metadata": {},
   "outputs": [
    {
     "data": {
      "text/plain": [
       "(1, {2, 3, 4})"
      ]
     },
     "execution_count": 76,
     "metadata": {},
     "output_type": "execute_result"
    }
   ],
   "source": [
    "t = (1, {2, 3})\n",
    "t[1].add(4)\n",
    "t"
   ]
  },
  {
   "cell_type": "markdown",
   "id": "173d3f29",
   "metadata": {},
   "source": [
    "Вопрос по четвертой лекции:\n",
    "- Что такое переменная?\n",
    "- В чем разница между `is` и `==`?\n",
    "- Можно ли сравнивать объекты при помощи `is`?\n",
    "- Как можно изменить кортеж?\n",
    "- В чем разница между copy и deepcopy?"
   ]
  },
  {
   "cell_type": "markdown",
   "id": "5e2f7b89",
   "metadata": {},
   "source": [
    "# Еще немного про строки"
   ]
  },
  {
   "cell_type": "markdown",
   "id": "8c74b537",
   "metadata": {},
   "source": [
    "## Стандартные методы"
   ]
  },
  {
   "cell_type": "markdown",
   "id": "49d839e4",
   "metadata": {},
   "source": [
    "Тут бы хотелось подметить некоторые полезные методы для работы со строками."
   ]
  },
  {
   "cell_type": "code",
   "execution_count": 77,
   "id": "8b0b7437",
   "metadata": {},
   "outputs": [],
   "source": [
    "text = \"  Hello, World!  \""
   ]
  },
  {
   "cell_type": "code",
   "execution_count": 78,
   "id": "5fdc121c",
   "metadata": {},
   "outputs": [
    {
     "data": {
      "text/plain": [
       "'Hello, World!'"
      ]
     },
     "execution_count": 78,
     "metadata": {},
     "output_type": "execute_result"
    }
   ],
   "source": [
    "text.strip()"
   ]
  },
  {
   "cell_type": "code",
   "execution_count": 79,
   "id": "63274cab",
   "metadata": {},
   "outputs": [
    {
     "data": {
      "text/plain": [
       "'Hello, World!  '"
      ]
     },
     "execution_count": 79,
     "metadata": {},
     "output_type": "execute_result"
    }
   ],
   "source": [
    "text.lstrip()"
   ]
  },
  {
   "cell_type": "code",
   "execution_count": 80,
   "id": "63002042",
   "metadata": {},
   "outputs": [
    {
     "data": {
      "text/plain": [
       "'  Hello, World!'"
      ]
     },
     "execution_count": 80,
     "metadata": {},
     "output_type": "execute_result"
    }
   ],
   "source": [
    "text.rstrip()"
   ]
  },
  {
   "cell_type": "code",
   "execution_count": 81,
   "id": "174adce0",
   "metadata": {},
   "outputs": [
    {
     "data": {
      "text/plain": [
       "'HELLO'"
      ]
     },
     "execution_count": 81,
     "metadata": {},
     "output_type": "execute_result"
    }
   ],
   "source": [
    "\"heLlo\".upper()"
   ]
  },
  {
   "cell_type": "code",
   "execution_count": 82,
   "id": "8624267b",
   "metadata": {},
   "outputs": [
    {
     "data": {
      "text/plain": [
       "'hello'"
      ]
     },
     "execution_count": 82,
     "metadata": {},
     "output_type": "execute_result"
    }
   ],
   "source": [
    "\"HElLo\".lower()"
   ]
  },
  {
   "cell_type": "markdown",
   "id": "b1a63dca",
   "metadata": {},
   "source": [
    "Можем сделать каждую первую букву в слове заглавной:"
   ]
  },
  {
   "cell_type": "code",
   "execution_count": 84,
   "id": "890dc187",
   "metadata": {},
   "outputs": [
    {
     "data": {
      "text/plain": [
       "('Hello World', True)"
      ]
     },
     "execution_count": 84,
     "metadata": {},
     "output_type": "execute_result"
    }
   ],
   "source": [
    "\"hello world\".title(), \"Hello World\".istitle()"
   ]
  },
  {
   "cell_type": "markdown",
   "id": "5c05647b",
   "metadata": {},
   "source": [
    "Можем сделать первый символ в строке заглавным:"
   ]
  },
  {
   "cell_type": "code",
   "execution_count": 83,
   "id": "364b50fd",
   "metadata": {},
   "outputs": [
    {
     "data": {
      "text/plain": [
       "'Hello world'"
      ]
     },
     "execution_count": 83,
     "metadata": {},
     "output_type": "execute_result"
    }
   ],
   "source": [
    "\"hello world\".capitalize()"
   ]
  },
  {
   "cell_type": "code",
   "execution_count": null,
   "id": "5a191544",
   "metadata": {},
   "outputs": [],
   "source": [
    "\"HeLlO\".swapcase()"
   ]
  },
  {
   "cell_type": "code",
   "execution_count": 87,
   "id": "150bd0ff",
   "metadata": {},
   "outputs": [
    {
     "data": {
      "text/plain": [
       "'hello world world'"
      ]
     },
     "execution_count": 87,
     "metadata": {},
     "output_type": "execute_result"
    }
   ],
   "source": [
    "\"hello   world  world\".replace(\"  \", \" \").replace(\"  \", \" \")"
   ]
  },
  {
   "cell_type": "code",
   "execution_count": 102,
   "id": "16f554cb",
   "metadata": {},
   "outputs": [],
   "source": [
    "text = \"Python programming is fun\""
   ]
  },
  {
   "cell_type": "code",
   "execution_count": 94,
   "id": "dbc29ded",
   "metadata": {},
   "outputs": [
    {
     "data": {
      "text/plain": [
       "(True, True)"
      ]
     },
     "execution_count": 94,
     "metadata": {},
     "output_type": "execute_result"
    }
   ],
   "source": [
    "text.startswith(\"Python\"), text.endswith(\"fun\")"
   ]
  },
  {
   "cell_type": "code",
   "execution_count": 103,
   "id": "ed31a4f8",
   "metadata": {},
   "outputs": [
    {
     "data": {
      "text/plain": [
       "(7, 9, 7, 2)"
      ]
     },
     "execution_count": 103,
     "metadata": {},
     "output_type": "execute_result"
    }
   ],
   "source": [
    "text.find(\"program\"), text.rfind(\"o\"), text.index(\"program\"), text.count(\"o\")"
   ]
  },
  {
   "cell_type": "code",
   "execution_count": 104,
   "id": "9e46c65c",
   "metadata": {},
   "outputs": [
    {
     "data": {
      "text/plain": [
       "(True, True, True, True)"
      ]
     },
     "execution_count": 104,
     "metadata": {},
     "output_type": "execute_result"
    }
   ],
   "source": [
    "\"123\".isdigit(), \"abc\".isalpha(), \"abc123\".isalnum(), \"   \".isspace()"
   ]
  },
  {
   "cell_type": "code",
   "execution_count": 105,
   "id": "9b724077",
   "metadata": {},
   "outputs": [
    {
     "data": {
      "text/plain": [
       "['apple', 'banana', 'orange']"
      ]
     },
     "execution_count": 105,
     "metadata": {},
     "output_type": "execute_result"
    }
   ],
   "source": [
    "csv_data = \"apple,banana,orange\"\n",
    "csv_data.split(\",\")"
   ]
  },
  {
   "cell_type": "code",
   "execution_count": 106,
   "id": "d12eb755",
   "metadata": {},
   "outputs": [
    {
     "data": {
      "text/plain": [
       "['one', 'two', 'three']"
      ]
     },
     "execution_count": 106,
     "metadata": {},
     "output_type": "execute_result"
    }
   ],
   "source": [
    "text = \"one\\ntwo\\nthree\"\n",
    "text.splitlines()"
   ]
  },
  {
   "cell_type": "code",
   "execution_count": 107,
   "id": "9d95c94f",
   "metadata": {},
   "outputs": [
    {
     "name": "stdout",
     "output_type": "stream",
     "text": [
      "Python is awesome\n",
      "Python-is-awesome\n"
     ]
    }
   ],
   "source": [
    "words = [\"Python\", \"is\", \"awesome\"]\n",
    "print(\" \".join(words))\n",
    "print(\"-\".join(words))"
   ]
  },
  {
   "cell_type": "code",
   "execution_count": 108,
   "id": "30baa91c",
   "metadata": {},
   "outputs": [
    {
     "data": {
      "text/plain": [
       "['a', 'b', 'c:d']"
      ]
     },
     "execution_count": 108,
     "metadata": {},
     "output_type": "execute_result"
    }
   ],
   "source": [
    "data = \"a:b:c:d\"\n",
    "data.split(\":\", 2)"
   ]
  },
  {
   "cell_type": "code",
   "execution_count": 109,
   "id": "2a22d59f",
   "metadata": {},
   "outputs": [
    {
     "name": "stdout",
     "output_type": "stream",
     "text": [
      "h2ll4\n"
     ]
    }
   ],
   "source": [
    "translation = str.maketrans(\"aeiou\", \"12345\")\n",
    "print(\"hello\".translate(translation))"
   ]
  },
  {
   "cell_type": "code",
   "execution_count": 110,
   "id": "15b599f4",
   "metadata": {},
   "outputs": [
    {
     "data": {
      "text/plain": [
       "('String', 'TestStr')"
      ]
     },
     "execution_count": 110,
     "metadata": {},
     "output_type": "execute_result"
    }
   ],
   "source": [
    "text = \"TestString\"\n",
    "text.removeprefix(\"Test\"), text.removesuffix(\"ing\")"
   ]
  },
  {
   "cell_type": "code",
   "execution_count": null,
   "id": "81a11a8b",
   "metadata": {},
   "outputs": [],
   "source": [
    "\"but victim or perpetrator\".ljust(40, \"*\")"
   ]
  },
  {
   "cell_type": "code",
   "execution_count": null,
   "id": "938704d1",
   "metadata": {},
   "outputs": [],
   "source": [
    "\"if your number's up...\".rjust(40, \"*\")"
   ]
  },
  {
   "cell_type": "code",
   "execution_count": null,
   "id": "b1364902",
   "metadata": {},
   "outputs": [],
   "source": [
    "\"we'll find *you*\".center(40, \"*\")"
   ]
  },
  {
   "cell_type": "markdown",
   "id": "08d29caa",
   "metadata": {},
   "source": [
    "## Модуль string"
   ]
  },
  {
   "cell_type": "code",
   "execution_count": 111,
   "id": "1f6091b6",
   "metadata": {},
   "outputs": [
    {
     "data": {
      "text/plain": [
       "('abcdefghijklmnopqrstuvwxyzABCDEFGHIJKLMNOPQRSTUVWXYZ',\n",
       " 'abcdefghijklmnopqrstuvwxyz',\n",
       " 'ABCDEFGHIJKLMNOPQRSTUVWXYZ')"
      ]
     },
     "execution_count": 111,
     "metadata": {},
     "output_type": "execute_result"
    }
   ],
   "source": [
    "import string\n",
    "\n",
    "string.ascii_letters, string.ascii_lowercase, string.ascii_uppercase"
   ]
  },
  {
   "cell_type": "code",
   "execution_count": 113,
   "id": "39c980f9",
   "metadata": {},
   "outputs": [
    {
     "data": {
      "text/plain": [
       "(True, False)"
      ]
     },
     "execution_count": 113,
     "metadata": {},
     "output_type": "execute_result"
    }
   ],
   "source": [
    "\"a\" in string.ascii_lowercase, \"1\" in string.ascii_lowercase"
   ]
  },
  {
   "cell_type": "code",
   "execution_count": 114,
   "id": "f71b8279",
   "metadata": {},
   "outputs": [
    {
     "data": {
      "text/plain": [
       "'!\"#$%&\\'()*+,-./:;<=>?@[\\\\]^_`{|}~'"
      ]
     },
     "execution_count": 114,
     "metadata": {},
     "output_type": "execute_result"
    }
   ],
   "source": [
    "string.punctuation"
   ]
  },
  {
   "cell_type": "code",
   "execution_count": 115,
   "id": "101ca53d",
   "metadata": {},
   "outputs": [
    {
     "name": "stdout",
     "output_type": "stream",
     "text": [
      "name\tsurname\n",
      "---------------\n",
      "Harold\tFinch\n"
     ]
    }
   ],
   "source": [
    "print(\"name\\tsurname\\n---------------\\nHarold\\tFinch\")"
   ]
  },
  {
   "cell_type": "markdown",
   "id": "d60a0b8f",
   "metadata": {},
   "source": [
    "## Значение по умолчанию"
   ]
  },
  {
   "cell_type": "code",
   "execution_count": 145,
   "id": "ae59f830",
   "metadata": {},
   "outputs": [],
   "source": [
    "def f(x, acc=None):\n",
    "    if acc is None:\n",
    "        acc = []\n",
    "    acc.append(x)\n",
    "    return acc"
   ]
  },
  {
   "cell_type": "code",
   "execution_count": 150,
   "id": "1e34ae44",
   "metadata": {},
   "outputs": [
    {
     "data": {
      "text/plain": [
       "[10]"
      ]
     },
     "execution_count": 150,
     "metadata": {},
     "output_type": "execute_result"
    }
   ],
   "source": [
    "f(10)"
   ]
  },
  {
   "cell_type": "markdown",
   "id": "3223918e",
   "metadata": {},
   "source": [
    "# Типы"
   ]
  },
  {
   "cell_type": "markdown",
   "id": "1b31109a",
   "metadata": {},
   "source": [
    "Ниже пример того, как можно матчить разные типы для того, чтобы обрабатывать различные входные типы по своему."
   ]
  },
  {
   "cell_type": "code",
   "execution_count": null,
   "id": "1c83a4f0",
   "metadata": {},
   "outputs": [],
   "source": [
    "values = (1, \"a\", [1], None)\n",
    "\n",
    "for value in values:\n",
    "    match value:\n",
    "        case int():\n",
    "            print(f\"Передано число {value}\")\n",
    "        case list():\n",
    "            print(f\"Передан список {value}\")\n",
    "        case str():\n",
    "            print(f\"Передана строка {value}\")\n",
    "        case _:\n",
    "            print(f\"Перед неизвестный объект {value, type(value)}\")"
   ]
  },
  {
   "cell_type": "markdown",
   "id": "b82b5c29",
   "metadata": {},
   "source": [
    "# Про ноутбуки\n",
    "## Markdown"
   ]
  },
  {
   "cell_type": "code",
   "execution_count": 151,
   "id": "6f278575",
   "metadata": {},
   "outputs": [
    {
     "name": "stdout",
     "output_type": "stream",
     "text": [
      "List comprehension: 0.036930 секунд\n"
     ]
    }
   ],
   "source": [
    "import time\n",
    "\n",
    "\n",
    "def measure_performance():\n",
    "    n = 1000000\n",
    "\n",
    "    start = time.perf_counter()\n",
    "    [i * 2 for i in range(1_000_000)]\n",
    "    end = time.perf_counter()\n",
    "\n",
    "    print(f\"List comprehension: {end - start:.6f} секунд\")\n",
    "\n",
    "\n",
    "measure_performance()"
   ]
  },
  {
   "cell_type": "code",
   "execution_count": 152,
   "id": "05fac865",
   "metadata": {},
   "outputs": [
    {
     "name": "stdout",
     "output_type": "stream",
     "text": [
      "27.9 ms ± 324 μs per loop (mean ± std. dev. of 7 runs, 10 loops each)\n"
     ]
    }
   ],
   "source": [
    "%%timeit\n",
    "\n",
    "[i * 2 for i in range(1_000_000)]"
   ]
  },
  {
   "cell_type": "markdown",
   "id": "fc0450cd",
   "metadata": {},
   "source": [
    "`%who` - список всех переменных в актуальном состоянии неймспеса."
   ]
  },
  {
   "cell_type": "code",
   "execution_count": 154,
   "id": "4101f037",
   "metadata": {},
   "outputs": [
    {
     "name": "stdout",
     "output_type": "stream",
     "text": [
      "a\t csv_data\t d\t data\t deepcopy\t f\t k\t l\t math\t \n",
      "measure_performance\t s\t string\t sys\t t\t text\t time\t translation\t v\t \n",
      "words\t \n"
     ]
    }
   ],
   "source": [
    "%who"
   ]
  },
  {
   "cell_type": "markdown",
   "id": "9562f6cc",
   "metadata": {},
   "source": [
    "`%whos` - список всех переменных с указанием типа в актуальном состоянии неймспеса."
   ]
  },
  {
   "cell_type": "code",
   "execution_count": 155,
   "id": "58455d9d",
   "metadata": {},
   "outputs": [
    {
     "name": "stdout",
     "output_type": "stream",
     "text": [
      "Variable              Type        Data/Info\n",
      "-------------------------------------------\n",
      "a                     int         9223372036854775807000100001\n",
      "csv_data              str         apple,banana,orange\n",
      "d                     dict        n=3\n",
      "data                  str         a:b:c:d\n",
      "deepcopy              function    <function deepcopy at 0x100e86200>\n",
      "f                     function    <function f at 0x105d46480>\n",
      "k                     int         2\n",
      "l                     list        n=3\n",
      "math                  module      <module 'math' from '/Lib<...>h.cpython-311-darwin.so'>\n",
      "measure_performance   function    <function measure_performance at 0x105d45da0>\n",
      "s                     list        n=3\n",
      "string                module      <module 'string' from '/L<...>ib/python3.11/string.py'>\n",
      "sys                   module      <module 'sys' (built-in)>\n",
      "t                     tuple       n=2\n",
      "text                  str         TestString\n",
      "time                  module      <module 'time' (built-in)>\n",
      "translation           dict        n=5\n",
      "v                     int         5\n",
      "words                 list        n=3\n"
     ]
    }
   ],
   "source": [
    "%whos"
   ]
  },
  {
   "cell_type": "markdown",
   "id": "17fed742",
   "metadata": {},
   "source": [
    "`%pinfo` - получение подробной информации об объекте из неймспейса."
   ]
  },
  {
   "cell_type": "code",
   "execution_count": 156,
   "id": "d3e8abe3",
   "metadata": {},
   "outputs": [
    {
     "name": "stdout",
     "output_type": "stream",
     "text": [
      "\u001b[31mDocstring:\u001b[39m\n",
      "Time execution of a Python statement or expression\n",
      "\n",
      "**Usage, in line mode**::\n",
      "\n",
      "  %timeit [-n<N> -r<R> [-t|-c] -q -p<P> [-o|-v <V>]] statement\n",
      "\n",
      "**or in cell mode**::\n",
      "\n",
      "  %%timeit [-n<N> -r<R> [-t|-c] -q -p<P> [-o|-v <V>]] setup_code\n",
      "  code\n",
      "  code...\n",
      "\n",
      "Time execution of a Python statement or expression using the timeit\n",
      "module.  This function can be used both as a line and cell magic:\n",
      "\n",
      "- In line mode you can time a single-line statement (though multiple\n",
      "  ones can be chained with using semicolons).\n",
      "\n",
      "- In cell mode, the statement in the first line is used as setup code\n",
      "  (executed but not timed) and the body of the cell is timed.  The cell\n",
      "  body has access to any variables created in the setup code.\n",
      "\n",
      "Options:\n",
      "\n",
      "-n<N>\n",
      "  Execute the given statement N times in a loop. If N is not\n",
      "  provided, N is determined so as to get sufficient accuracy.\n",
      "\n",
      "-r<R>\n",
      "  Number of repeats R, each consisting of N loops, and take the\n",
      "  average result.\n",
      "  Default: 7\n",
      "\n",
      "-t\n",
      "  Use ``time.time`` to measure the time, which is the default on Unix.\n",
      "  This function measures wall time.\n",
      "\n",
      "-c\n",
      "  Use ``time.clock`` to measure the time, which is the default on\n",
      "  Windows and measures wall time. On Unix, ``resource.getrusage`` is used\n",
      "  instead and returns the CPU user time.\n",
      "\n",
      "-p<P>\n",
      "  Use a precision of P digits to display the timing result.\n",
      "  Default: 3\n",
      "\n",
      "-q\n",
      "  Quiet, do not print result.\n",
      "\n",
      "-o\n",
      "  Return a ``TimeitResult`` that can be stored in a variable to inspect\n",
      "  the result in more details.\n",
      "\n",
      "-v <V>\n",
      "  Like ``-o``, but save the ``TimeitResult`` directly to variable <V>.\n",
      "\n",
      ".. versionchanged:: 7.3\n",
      "    User variables are no longer expanded,\n",
      "    the magic line is always left unmodified.\n",
      "\n",
      "Examples\n",
      "--------\n",
      "::\n",
      "\n",
      "  In [1]: %timeit pass\n",
      "  8.26 ns ± 0.12 ns per loop (mean ± std. dev. of 7 runs, 100000000 loops each)\n",
      "\n",
      "  In [2]: u = None\n",
      "\n",
      "  In [3]: %timeit u is None\n",
      "  29.9 ns ± 0.643 ns per loop (mean ± std. dev. of 7 runs, 10000000 loops each)\n",
      "\n",
      "  In [4]: %timeit -r 4 u == None\n",
      "\n",
      "  In [5]: import time\n",
      "\n",
      "  In [6]: %timeit -n1 time.sleep(2)\n",
      "\n",
      "The times reported by ``%timeit`` will be slightly higher than those\n",
      "reported by the timeit.py script when variables are accessed. This is\n",
      "due to the fact that ``%timeit`` executes the statement in the namespace\n",
      "of the shell, compared with timeit.py, which uses a single setup\n",
      "statement to import function or create variables. Generally, the bias\n",
      "does not matter as long as results from timeit.py are not mixed with\n",
      "those from ``%timeit``.\n",
      "\u001b[31mFile:\u001b[39m      ~/Library/Python/3.11/lib/python/site-packages/IPython/core/magics/execution.py"
     ]
    }
   ],
   "source": [
    "%pinfo timeit"
   ]
  },
  {
   "cell_type": "code",
   "execution_count": 157,
   "id": "1457d02e",
   "metadata": {},
   "outputs": [
    {
     "name": "stdout",
     "output_type": "stream",
     "text": [
      "Hello world\n"
     ]
    }
   ],
   "source": [
    "%%bash\n",
    "echo \"Hello world\""
   ]
  }
 ],
 "metadata": {
  "kernelspec": {
   "display_name": "Python 3",
   "language": "python",
   "name": "python3"
  },
  "language_info": {
   "codemirror_mode": {
    "name": "ipython",
    "version": 3
   },
   "file_extension": ".py",
   "mimetype": "text/x-python",
   "name": "python",
   "nbconvert_exporter": "python",
   "pygments_lexer": "ipython3",
   "version": "3.11.0"
  }
 },
 "nbformat": 4,
 "nbformat_minor": 5
}
