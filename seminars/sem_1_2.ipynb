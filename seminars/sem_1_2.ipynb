{
 "cells": [
  {
   "cell_type": "markdown",
   "id": "57ecd7e9",
   "metadata": {},
   "source": [
    "# Intro\n",
    "\n",
    "https://t.me/+lgJRpMt6z4A3Nzky\n",
    "\n",
    "![](image.png)\n"
   ]
  },
  {
   "cell_type": "markdown",
   "id": "7bb455ca",
   "metadata": {},
   "source": [
    "\n",
    "## Кто я\n",
    "\n",
    "Алексей **(без отчества плз)**\n",
    "\n",
    "Веду Алгоритмы и C++ на 1 курсе, АКОС на 2.\n",
    "\n",
    "Иногда веду и принимаю курсовые, дипломы\n",
    "\n",
    "Собеседую в Яндекс по C++\n",
    "\n",
    "Работаю в разработке маршрутизации в Картах"
   ]
  },
  {
   "cell_type": "markdown",
   "id": "6268e5ed",
   "metadata": {},
   "source": [
    "## Оценки\n",
    "\n",
    "Семинарская оценка\n",
    "\n",
    "50% – квизы\n",
    "\n",
    "50% – работа на семинарах\n",
    "\n",
    "Quiz #0: https://forms.yandex.ru/u/68befcad84227cfce7ca3a3d"
   ]
  },
  {
   "cell_type": "markdown",
   "id": "b117049c",
   "metadata": {},
   "source": [
    "![](quiz.png)"
   ]
  },
  {
   "cell_type": "markdown",
   "id": "fa978e73",
   "metadata": {},
   "source": [
    "# Так зачем нам Python?\n",
    "\n",
    "- **Data Science / ML**\n",
    "- **Data Engineering**\n",
    "- **Web**\n",
    "- **Автоматизация / DevOps**\n",
    "- **Наука / образование**\n",
    "- **Системы и утилиты**"
   ]
  },
  {
   "cell_type": "markdown",
   "id": "df1b6c34",
   "metadata": {},
   "source": [
    "## База\n",
    "\n",
    "Чем `elif` в Python отличается от `else if` в C/C++/Java?\n",
    "\n",
    "Что вернёт `bool(\"0\")`?\n",
    "\n",
    "Что такое «истинность» объектов? Примеры truthy / falsy.\n",
    "\n",
    "Чем `==` отличается от `is`?\n"
   ]
  },
  {
   "cell_type": "code",
   "execution_count": null,
   "id": "f2884691",
   "metadata": {},
   "outputs": [
    {
     "data": {
      "text/plain": [
       "True"
      ]
     },
     "execution_count": 47,
     "metadata": {},
     "output_type": "execute_result"
    }
   ],
   "source": [
    "a = 256\n",
    "b = 256\n",
    "a is b\n",
    "\n",
    "# why -5"
   ]
  },
  {
   "cell_type": "code",
   "execution_count": null,
   "id": "833f641b",
   "metadata": {},
   "outputs": [],
   "source": []
  },
  {
   "cell_type": "code",
   "execution_count": null,
   "id": "7e133cfb",
   "metadata": {},
   "outputs": [],
   "source": []
  },
  {
   "cell_type": "code",
   "execution_count": null,
   "id": "a3c60f84",
   "metadata": {},
   "outputs": [],
   "source": []
  },
  {
   "cell_type": "code",
   "execution_count": null,
   "id": "7d7a473b",
   "metadata": {},
   "outputs": [],
   "source": []
  },
  {
   "cell_type": "code",
   "execution_count": null,
   "id": "853648ec",
   "metadata": {},
   "outputs": [],
   "source": []
  },
  {
   "cell_type": "code",
   "execution_count": null,
   "id": "2dceada2",
   "metadata": {},
   "outputs": [],
   "source": []
  },
  {
   "cell_type": "code",
   "execution_count": null,
   "id": "4f5a2206",
   "metadata": {},
   "outputs": [],
   "source": []
  },
  {
   "cell_type": "code",
   "execution_count": null,
   "id": "687c5987",
   "metadata": {},
   "outputs": [],
   "source": []
  },
  {
   "cell_type": "code",
   "execution_count": 50,
   "id": "52fbf9b8",
   "metadata": {},
   "outputs": [
    {
     "name": "stdout",
     "output_type": "stream",
     "text": [
      "[1, 2, 3]\n"
     ]
    }
   ],
   "source": [
    "a = [1, 2, 3]\n",
    "b = a.copy()\n",
    "b.append(4)\n",
    "print(a)"
   ]
  },
  {
   "cell_type": "markdown",
   "id": "b07b175d",
   "metadata": {},
   "source": [
    "## Калькулятор\n",
    "\n",
    "Ввод: `a op b`, где `op` в `+ - * / // % **`. Выведите результат."
   ]
  },
  {
   "cell_type": "code",
   "execution_count": null,
   "id": "e4c0c417",
   "metadata": {},
   "outputs": [],
   "source": [
    "line = input(\"Введите выражение (например: 2 * 3): \").strip()"
   ]
  },
  {
   "cell_type": "markdown",
   "id": "088d2172",
   "metadata": {},
   "source": [
    "# Битовые операции"
   ]
  },
  {
   "cell_type": "code",
   "execution_count": 87,
   "id": "fc294c8b",
   "metadata": {},
   "outputs": [
    {
     "name": "stdout",
     "output_type": "stream",
     "text": [
      "test\n"
     ]
    }
   ],
   "source": [
    "print(\"test\")"
   ]
  },
  {
   "cell_type": "markdown",
   "id": "67aa1fa2",
   "metadata": {},
   "source": [
    "## Test"
   ]
  },
  {
   "cell_type": "markdown",
   "id": "37da67bc",
   "metadata": {},
   "source": []
  },
  {
   "cell_type": "code",
   "execution_count": null,
   "id": "c214c3a3",
   "metadata": {},
   "outputs": [],
   "source": []
  },
  {
   "cell_type": "markdown",
   "id": "58d15543",
   "metadata": {},
   "source": [
    "## Степень двойки"
   ]
  },
  {
   "cell_type": "markdown",
   "id": "61e5bd76",
   "metadata": {},
   "source": [
    "**Задача**: определить, является ли число степенью двойки.\n",
    "\n",
    "Подсказка:"
   ]
  },
  {
   "cell_type": "code",
   "execution_count": null,
   "id": "c7e713c2",
   "metadata": {},
   "outputs": [
    {
     "data": {
      "text/plain": [
       "0"
      ]
     },
     "execution_count": 66,
     "metadata": {},
     "output_type": "execute_result"
    }
   ],
   "source": [
    "bin(1 << 1), bin(1 << 2), bin(1 << 3), bin(7), bin(10), bin(256)\n"
   ]
  },
  {
   "cell_type": "code",
   "execution_count": 74,
   "id": "66200ffa",
   "metadata": {},
   "outputs": [],
   "source": [
    "def is_power_of_two(n: int) -> bool:\n",
    "    return n != 0 and not (n & (n - 1))\n",
    "\n",
    "assert not is_power_of_two(0)\n",
    "assert is_power_of_two(1)\n",
    "assert is_power_of_two(4)\n",
    "assert is_power_of_two(1024)\n",
    "assert not is_power_of_two(1023)"
   ]
  },
  {
   "cell_type": "markdown",
   "id": "c4a914a3",
   "metadata": {},
   "source": [
    "## Подсчет единичных битов"
   ]
  },
  {
   "cell_type": "markdown",
   "id": "0e128b3e",
   "metadata": {},
   "source": [
    "**Задача**: определить сколько единичных битов в числе."
   ]
  },
  {
   "cell_type": "code",
   "execution_count": null,
   "id": "4bca4477",
   "metadata": {},
   "outputs": [],
   "source": [
    "def count_set_bits(n: int) -> int:\n",
    "    return 0\n",
    "\n",
    "\n",
    "test_cases = [(0, 0), (1, 1), (0b10101, 3), (0xFFFFFFFF, 32), (0xAAAAAAAA, 16)]\n",
    "\n",
    "for n, expected in test_cases:\n",
    "    assert count_set_bits(n) == expected, expected"
   ]
  },
  {
   "cell_type": "markdown",
   "id": "9ab5e9d3",
   "metadata": {},
   "source": [
    "## Шифрование"
   ]
  },
  {
   "cell_type": "code",
   "execution_count": 90,
   "id": "9241f668",
   "metadata": {},
   "outputs": [
    {
     "data": {
      "text/plain": [
       "str"
      ]
     },
     "execution_count": 90,
     "metadata": {},
     "output_type": "execute_result"
    }
   ],
   "source": [
    "a = 'A'\n",
    "type(a[0])"
   ]
  },
  {
   "cell_type": "code",
   "execution_count": 97,
   "id": "6ed801ba",
   "metadata": {},
   "outputs": [
    {
     "name": "stdout",
     "output_type": "stream",
     "text": [
      "{'char': 'A', 'code_point': 65, 'name': 'LATIN CAPITAL LETTER A'}\n",
      "{'char': '😊', 'code_point': 128522, 'name': 'SMILING FACE WITH SMILING EYES'}\n",
      "{'char': 'π', 'code_point': 960, 'name': 'GREEK SMALL LETTER PI'}\n",
      "{'char': 'я', 'code_point': 1103, 'name': 'CYRILLIC SMALL LETTER YA'}\n",
      "{'char': 'ё', 'code_point': 1105, 'name': 'CYRILLIC SMALL LETTER IO'}\n",
      "{'char': 'е', 'code_point': 1077, 'name': 'CYRILLIC SMALL LETTER IE'}\n",
      "A\n",
      "π\n",
      "ѐ\n"
     ]
    }
   ],
   "source": [
    "import unicodedata\n",
    "\n",
    "\n",
    "def char_info(char):\n",
    "    return {\n",
    "        \"char\": char,\n",
    "        \"code_point\": ord(char),\n",
    "        \"name\": unicodedata.name(char, \"Unknown\"),\n",
    "    }\n",
    "\n",
    "print(char_info(\"A\"))\n",
    "print(char_info(\"😊\"))\n",
    "print(char_info(\"π\"))\n",
    "print(char_info(\"я\"))\n",
    "print(char_info(\"ё\"))\n",
    "print(char_info(\"е\"))\n",
    "\n",
    "print(chr(65))\n",
    "print(chr(960))\n",
    "print(chr(1104))"
   ]
  },
  {
   "cell_type": "code",
   "execution_count": null,
   "id": "c68e6dfb",
   "metadata": {},
   "outputs": [],
   "source": []
  },
  {
   "cell_type": "code",
   "execution_count": null,
   "id": "89a03d43",
   "metadata": {},
   "outputs": [],
   "source": []
  },
  {
   "cell_type": "code",
   "execution_count": null,
   "id": "b0c76498",
   "metadata": {},
   "outputs": [],
   "source": []
  },
  {
   "cell_type": "code",
   "execution_count": null,
   "id": "23c1ac95",
   "metadata": {},
   "outputs": [],
   "source": []
  },
  {
   "cell_type": "code",
   "execution_count": null,
   "id": "0b54c6e3",
   "metadata": {},
   "outputs": [],
   "source": []
  },
  {
   "cell_type": "code",
   "execution_count": null,
   "id": "d3cdbc4f",
   "metadata": {},
   "outputs": [],
   "source": [
    "def caesar_cipher(text: str, shift: int) -> str:\n",
    "    \"\"\"Реализовать шифр Цезаря с сохранением регистра и не-буквенных символов.\"\"\"\n",
    "    pass\n",
    "\n",
    "\n",
    "assert caesar_cipher(\"Hello, World!\", 3) == \"Khoor, Zruog!\"\n",
    "assert caesar_cipher(\"Khoor, Zruog!\", -3) == \"Hello, World!\"\n",
    "assert caesar_cipher(\"XYZ\", 3) == \"ABC\"\n",
    "assert caesar_cipher(\"\", 5) == \"\"\n",
    "assert caesar_cipher(\"Hello\", 0) == \"Hello\"\n",
    "assert caesar_cipher(\"Hello\", 26) == \"Hello\"\n",
    "assert caesar_cipher(\"Hello\", 52) == \"Hello\"\n",
    "assert caesar_cipher(\"Hello\", -26) == \"Hello\"\n",
    "assert caesar_cipher(\"Hello\", 27) == \"Ifmmp\"\n",
    "assert caesar_cipher(\"Ifmmp\", -27) == \"Hello\"\n",
    "assert caesar_cipher(\"Hello, 123!\", 3) == \"Khoor, 123!\"\n",
    "assert caesar_cipher(\"Hello\\tWorld\\n\", 3) == \"Khoor\\tZruog\\n\"\n",
    "assert caesar_cipher(\"A\", 25) == \"Z\"\n",
    "assert caesar_cipher(\"Z\", 1) == \"A\"\n",
    "assert caesar_cipher(\"a\", 25) == \"z\"\n",
    "assert caesar_cipher(\"z\", 1) == \"a\"\n",
    "assert caesar_cipher(\"Hello\", -1) == \"Gdkkn\"\n",
    "assert caesar_cipher(\"Gdkkn\", 1) == \"Hello\"\n",
    "assert caesar_cipher(\"Hello, World!\", 3) == caesar_cipher(\"Hello, World!\", 29)\n",
    "assert caesar_cipher(\"Hello, World!\", -3) == caesar_cipher(\"Hello, World!\", 23)\n",
    "assert caesar_cipher(\"HeLlO\", 3) == \"KhOoR\"\n",
    "print(\"Все тесты пройдены!\")"
   ]
  },
  {
   "cell_type": "markdown",
   "id": "68f13c3b",
   "metadata": {},
   "source": [
    "# Строки"
   ]
  },
  {
   "cell_type": "markdown",
   "id": "cdd0a148",
   "metadata": {},
   "source": [
    "## Переворот слов в строке"
   ]
  },
  {
   "cell_type": "markdown",
   "id": "1df018b0",
   "metadata": {},
   "source": [
    "**Задача**: перевернуть порядок слов в строке."
   ]
  },
  {
   "cell_type": "code",
   "execution_count": null,
   "id": "98aaedb9",
   "metadata": {},
   "outputs": [],
   "source": [
    "def reverse_words(s: str) -> str:\n",
    "    return \"\"\n",
    "\n",
    "\n",
    "assert reverse_words(\"Hello World\") == \"World Hello\"\n",
    "assert reverse_words(\"Python is awesome\") == \"awesome is Python\"\n",
    "assert reverse_words(\"a b c\") == \"c b a\"\n",
    "assert reverse_words(\"\") == \"\""
   ]
  },
  {
   "cell_type": "markdown",
   "id": "c3a17bbb",
   "metadata": {},
   "source": [
    "## Самый длинный"
   ]
  },
  {
   "cell_type": "markdown",
   "id": "9632513c",
   "metadata": {},
   "source": [
    "**Задача**: найти самое длинное слово в строке."
   ]
  },
  {
   "cell_type": "code",
   "execution_count": null,
   "id": "be6498f8",
   "metadata": {},
   "outputs": [],
   "source": [
    "def longest_word(s: str) -> str:\n",
    "    pass\n",
    "\n",
    "\n",
    "assert longest_word(\"Python is a programming language\") == \"programming\"\n",
    "assert longest_word(\"Hello world\") == \"Hello\"\n",
    "assert longest_word(\"\") == \"\"\n",
    "assert longest_word(\"a bb ccc\") == \"ccc\""
   ]
  },
  {
   "cell_type": "markdown",
   "id": "3b676eda",
   "metadata": {},
   "source": [
    "## CSV parser\n",
    "\n",
    "Дана строка `a,b,,c`. Получить список значений (включая пустые), заменить пустые на `None` и вернуть кортеж."
   ]
  },
  {
   "cell_type": "code",
   "execution_count": null,
   "id": "daa65522",
   "metadata": {},
   "outputs": [],
   "source": [
    "s = \"a,b,,c\"\n",
    "\n"
   ]
  },
  {
   "cell_type": "markdown",
   "id": "1fc43294",
   "metadata": {},
   "source": [
    "## Неповторимый"
   ]
  },
  {
   "cell_type": "markdown",
   "id": "11707612",
   "metadata": {},
   "source": [
    "**Задача**: удалить повторяющиеся символы из строки, сохраняя первый экземпляр."
   ]
  },
  {
   "cell_type": "code",
   "execution_count": null,
   "id": "08b18a55",
   "metadata": {},
   "outputs": [],
   "source": [
    "def remove_duplicates(s: str) -> str:\n",
    "    pass\n",
    "\n",
    "\n",
    "assert remove_duplicates(\"aabbcc\") == \"abc\"\n",
    "assert remove_duplicates(\"hello world\") == \"helo wrd\"\n",
    "assert remove_duplicates(\"\") == \"\"\n",
    "assert remove_duplicates(\"abc\") == \"abc\""
   ]
  },
  {
   "cell_type": "markdown",
   "id": "8094afae",
   "metadata": {},
   "source": [
    "# Файлы"
   ]
  },
  {
   "cell_type": "markdown",
   "id": "051586a0",
   "metadata": {},
   "source": [
    "## +1"
   ]
  },
  {
   "cell_type": "markdown",
   "id": "a211cd5d",
   "metadata": {},
   "source": [
    "Задача: в файле `data.txt` лежат числа по одному на новой строке. Необходимо увеличить каждое число на 1 в файле, при этом удалить каждое получившееся четное число."
   ]
  },
  {
   "cell_type": "code",
   "execution_count": null,
   "id": "2de9ba34",
   "metadata": {},
   "outputs": [],
   "source": [
    "test_cases = [\n",
    "    (\"25\\n30\\n22\", \"31\\n23\"),\n",
    "    (\"10\\n20\\n30\", \"11\\n21\\n31\"),\n",
    "    (\"5\", \"\"),\n",
    "    (\"100\\n200\", \"101\\n201\"),\n",
    "    (\"\", \"\"),\n",
    "]\n",
    "\n",
    "passed_tests = 0\n",
    "total_tests = len(test_cases)\n",
    "\n",
    "for i, (input_data, expected) in enumerate(test_cases, 1):\n",
    "    print(f\"Тест {i}:\")\n",
    "\n",
    "    f = open(\"data.txt\", \"w\")\n",
    "    f.write(input_data)\n",
    "    f.close()\n",
    "\n",
    "    ...\n",
    "    # Добавьте свой код\n",
    "    ...\n",
    "\n",
    "    f = open(\"data.txt\", \"r\")\n",
    "    result = f.read().strip()\n",
    "    f.close()\n",
    "\n",
    "    success = result == expected\n",
    "    input_str = repr(input_data) if input_data else \"(пустой файл)\"\n",
    "    expected_str = repr(expected) if expected else \"(пустой файл)\"\n",
    "    result_str = repr(result) if result else \"(пустой файл)\"\n",
    "\n",
    "    print(f\"Входные данные: {input_str}\")\n",
    "    print(f\"Ожидаемый результат: {expected_str}\")\n",
    "    print(f\"Полученный результат: {result_str}\")\n",
    "\n",
    "    if success:\n",
    "        print(\"✓ ТЕСТ ПРОЙДЕН\")\n",
    "        passed_tests += 1\n",
    "    else:\n",
    "        print(\"✗ ТЕСТ НЕ ПРОЙДЕН\")\n",
    "\n",
    "    print(\"-\" * 30)\n",
    "\n",
    "print(\"=\" * 50)\n",
    "print(f\"ИТОГ: {passed_tests}/{total_tests} тестов пройдено\")\n",
    "print(\"=\" * 50)\n",
    "\n",
    "if passed_tests == total_tests:\n",
    "    print(\"🎉 Все тесты успешно пройдены!\")\n",
    "else:\n",
    "    print(\"❌ Некоторые тесты не пройдены\")"
   ]
  },
  {
   "cell_type": "markdown",
   "id": "6c9a5605",
   "metadata": {},
   "source": [
    "# Rrrrrrrrrrrocket\n",
    "## Мини‑проект: карманный банк\n",
    "\n",
    "- При первом запуске спрашиваем имя и создаём файл `<имя>.txt` с балансом 1000.\n",
    "- Команды: `balance`, `deposit X`, `withdraw Y`, `exit`.\n",
    "- Для простоты работаем с целыми числами. При ошибках — печатаем сообщение и продолжаем.\n",
    "- Бонус 1: аутентификация по паролю (безопасная!)\n",
    "- Бонус 2: лог операций (отдельным файлом)"
   ]
  },
  {
   "cell_type": "code",
   "execution_count": null,
   "id": "4e1ec6fc",
   "metadata": {},
   "outputs": [],
   "source": [
    "> Alex\n",
    "> deposit 100\n",
    "> balance\n",
    "1100\n",
    "> exit\n",
    "\n",
    "> Alex\n",
    "> balance\n",
    "1100"
   ]
  }
 ],
 "metadata": {
  "kernelspec": {
   "display_name": "Python 3",
   "language": "python",
   "name": "python3"
  },
  "language_info": {
   "codemirror_mode": {
    "name": "ipython",
    "version": 3
   },
   "file_extension": ".py",
   "mimetype": "text/x-python",
   "name": "python",
   "nbconvert_exporter": "python",
   "pygments_lexer": "ipython3",
   "version": "3.11.0"
  }
 },
 "nbformat": 4,
 "nbformat_minor": 5
}
