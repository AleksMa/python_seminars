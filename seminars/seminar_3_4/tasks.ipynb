{
 "cells": [
  {
   "cell_type": "markdown",
   "id": "74d4133e",
   "metadata": {},
   "source": [
    "# Анализируем"
   ]
  },
  {
   "cell_type": "markdown",
   "id": "85f25b91",
   "metadata": {},
   "source": [
    "Обработайте текст Дзена питона:\n",
    "- Подсчитайте сколько раз входит в текст каждый символ в нем.\n",
    "\n",
    "Игнорируйте регистр букв и небуквенные символы."
   ]
  },
  {
   "cell_type": "code",
   "execution_count": null,
   "id": "4de14618",
   "metadata": {},
   "outputs": [
    {
     "name": "stdout",
     "output_type": "stream",
     "text": [
      "gur mra bs clguba, ol gvz crgref\n",
      "\n",
      "ornhgvshy vf orggre guna htyl.\n",
      "rkcyvpvg vf orggre guna vzcyvpvg.\n",
      "fvzcyr vf orggre guna pbzcyrk.\n",
      "pbzcyrk vf orggre guna pbzcyvpngrq.\n",
      "syng vf orggre guna arfgrq.\n",
      "fcnefr vf orggre guna qrafr.\n",
      "ernqnovyvgl pbhagf.\n",
      "fcrpvny pnfrf nera'g fcrpvny rabhtu gb oernx gur ehyrf.\n",
      "nygubhtu cenpgvpnyvgl orngf chevgl.\n",
      "reebef fubhyq arire cnff fvyragyl.\n",
      "hayrff rkcyvpvgyl fvyraprq.\n",
      "va gur snpr bs nzovthvgl, ershfr gur grzcgngvba gb thrff.\n",
      "gurer fubhyq or bar-- naq cersrenoyl bayl bar --boivbhf jnl gb qb vg.\n",
      "nygubhtu gung jnl znl abg or boivbhf ng svefg hayrff lbh'er qhgpu.\n",
      "abj vf orggre guna arire.\n",
      "nygubhtu arire vf bsgra orggre guna *evtug* abj.\n",
      "vs gur vzcyrzragngvba vf uneq gb rkcynva, vg'f n onq vqrn.\n",
      "vs gur vzcyrzragngvba vf rnfl gb rkcynva, vg znl or n tbbq vqrn.\n",
      "anzrfcnprf ner bar ubaxvat terng vqrn -- yrg'f qb zber bs gubfr!\n"
     ]
    }
   ],
   "source": [
    "import this\n",
    "\n",
    "\n",
    "def zen_symbols_counter() -> dict[str, int]:\n",
    "    print(this.s)  # Используйте this.s как текст, который нужно обработать.\n",
    "\n",
    "\n",
    "result = zen_symbols_counter()\n",
    "\n",
    "assert max(result.values()) == 90\n",
    "assert min(result.values()) == 1\n",
    "assert (\"r\", 90) in result.items()\n",
    "assert (\"g\", 76) in result.items()"
   ]
  },
  {
   "cell_type": "markdown",
   "id": "de0c2cdc",
   "metadata": {},
   "source": [
    "# Слияние"
   ]
  },
  {
   "cell_type": "markdown",
   "id": "fac38d3b",
   "metadata": {},
   "source": [
    "Реализуйте функцию, которая объединяет словари. Если ключи присутствуют в обоих словарях, то суммируйте значения по ним.\n",
    "\n",
    "**Подсказка**: словари можно сливать при помощи `|`.\n",
    "\n",
    "```python\n",
    "{1: 1} | {2: 2} = {1: 1, 2: 2}\n",
    "```"
   ]
  },
  {
   "cell_type": "code",
   "execution_count": null,
   "id": "883f0c4f",
   "metadata": {},
   "outputs": [],
   "source": [
    "def merge_dicts(d1: dict[str, int], d2: dict[str, int]) -> dict[str, int]: ...\n",
    "\n",
    "\n",
    "assert merge_dicts({\"a\": 1}, {\"a\": 2}) == {\"a\": 3}\n",
    "assert merge_dicts({\"a\": 1, \"b\": 3, \"c\": 4}, {\"a\": 2}) == {\"a\": 3, \"b\": 3, \"c\": 4}\n",
    "assert merge_dicts({}, {}) == {}\n",
    "assert merge_dicts({}, {\"a\": 1, \"b\": 3, \"c\": 4}) == {\"a\": 1, \"b\": 3, \"c\": 4}"
   ]
  },
  {
   "cell_type": "markdown",
   "id": "083353b2",
   "metadata": {},
   "source": [
    "# Разворот"
   ]
  },
  {
   "cell_type": "markdown",
   "id": "098ac7e3",
   "metadata": {},
   "source": [
    "Теперь надо научиться разворачивать словари. Повторяющиеся ключи игнорируются, оставляя последнюю пару.\n",
    "\n",
    "**Задача**: поменять местами ключи и значения."
   ]
  },
  {
   "cell_type": "code",
   "execution_count": null,
   "id": "8b8db207",
   "metadata": {},
   "outputs": [],
   "source": [
    "from typing import Any\n",
    "\n",
    "\n",
    "def inverse_dict(d: dict[str, Any]) -> dict[Any, str]: ...\n",
    "\n",
    "\n",
    "assert inverse_dict({}) == {}\n",
    "assert inverse_dict({\"a\": 1, \"b\": 1.0, \"c\": True}) == {1: \"c\"}\n",
    "assert inverse_dict({\"a\": 1, \"b\": 2}) == {1: \"a\", 2: \"b\"}\n",
    "assert inverse_dict({\"a\": {}}) == {}\n",
    "assert inverse_dict({\"a\": ([])}) == {}"
   ]
  },
  {
   "cell_type": "markdown",
   "id": "52e00992",
   "metadata": {},
   "source": [
    "## <a id=\"project\"></a>Мини‑проект: соцсеть\n",
    "\n",
    "**Задача:** есть соцсеть, где `graph: str -> set[str]`. Реализуйте:\n",
    "1. `add_user(graph, user)` — добавить пользователя.\n",
    "2. `add_friendship(graph, a, b)` — сделать a и b друзьями.\n",
    "3. `mutual_friends(graph, a, b) -> set` — общие друзья.\n",
    "4. `recommend(graph, user, k=5)` — рекомендовать друзей: друзья друзей, которых ещё нет у `user`, отсортировать по убыванию числа общих друзей (при равенстве — по имени).\n",
    "\n",
    "* `shortest_chain(graph, a, b)` — кратчайшая цепочка знакомства."
   ]
  }
 ],
 "metadata": {
  "kernelspec": {
   "display_name": "Python 3",
   "language": "python",
   "name": "python3"
  },
  "language_info": {
   "codemirror_mode": {
    "name": "ipython",
    "version": 3
   },
   "file_extension": ".py",
   "mimetype": "text/x-python",
   "name": "python",
   "nbconvert_exporter": "python",
   "pygments_lexer": "ipython3",
   "version": "3.11.0"
  }
 },
 "nbformat": 4,
 "nbformat_minor": 5
}
